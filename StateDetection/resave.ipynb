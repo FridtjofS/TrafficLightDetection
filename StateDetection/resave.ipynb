{
 "cells": [
  {
   "cell_type": "code",
   "execution_count": 1,
   "metadata": {},
   "outputs": [],
   "source": [
    "import torch\n",
    "import torch_directml as dml\n",
    "from ResNet_withBottleneck import ResNet\n"
   ]
  },
  {
   "cell_type": "code",
   "execution_count": 2,
   "metadata": {},
   "outputs": [
    {
     "data": {
      "text/plain": [
       "device(type='privateuseone', index=0)"
      ]
     },
     "execution_count": 2,
     "metadata": {},
     "output_type": "execute_result"
    }
   ],
   "source": [
    "device_dml = dml.device()\n",
    "device_dml"
   ]
  },
  {
   "cell_type": "code",
   "execution_count": 3,
   "metadata": {},
   "outputs": [
    {
     "data": {
      "text/plain": [
       "device(type='cpu')"
      ]
     },
     "execution_count": 3,
     "metadata": {},
     "output_type": "execute_result"
    }
   ],
   "source": [
    "device_cpu = torch.device('cpu')\n",
    "device_cpu"
   ]
  },
  {
   "cell_type": "code",
   "execution_count": 11,
   "metadata": {},
   "outputs": [],
   "source": [
    "model_cpu = ResNet(\n",
    "            num_classes=5,\n",
    "            input_size=(64, 64),\n",
    "            channel_size=3,\n",
    "            layers=[1, 1, 1, 1], #[1, 1, 1, 1],#[2, 2, 2, 2],\n",
    "            out_channels=[64, 128, 256, 512],\n",
    "            blocktype=\"simple\",\n",
    "            device=device_cpu\n",
    "        )\n",
    "#model_cpu.to(device_cpu)"
   ]
  },
  {
   "cell_type": "code",
   "execution_count": 12,
   "metadata": {},
   "outputs": [
    {
     "data": {
      "text/plain": [
       "device(type='cpu')"
      ]
     },
     "execution_count": 12,
     "metadata": {},
     "output_type": "execute_result"
    }
   ],
   "source": [
    "model_cpu.load_state_dict(torch.load(r\"C:\\Users\\Magnus\\OneDrive\\Studium\\3. Semester WS2324\\Praktikum BV\\TrafficLightDetection\\StateDetection\\models\\_model_best4\\model.pth\", map_location=device_cpu))\n",
    "model_cpu.device"
   ]
  },
  {
   "cell_type": "code",
   "execution_count": 13,
   "metadata": {},
   "outputs": [],
   "source": [
    "model_dml = ResNet(\n",
    "            num_classes=5,\n",
    "            input_size=(64, 64),\n",
    "            channel_size=3,\n",
    "            layers=[1, 1, 1, 1], #[1, 1, 1, 1],#[2, 2, 2, 2],\n",
    "            out_channels=[64, 128, 256, 512],\n",
    "            blocktype=\"simple\",\n",
    "            device=device_dml\n",
    "        )\n"
   ]
  },
  {
   "cell_type": "code",
   "execution_count": 19,
   "metadata": {},
   "outputs": [
    {
     "data": {
      "text/plain": [
       "ResNet(\n",
       "  (conv1): Sequential(\n",
       "    (0): Conv2d(3, 64, kernel_size=(7, 7), stride=(2, 2), padding=(3, 3))\n",
       "    (1): BatchNorm2d(64, eps=1e-05, momentum=0.1, affine=True, track_running_stats=True)\n",
       "  )\n",
       "  (relu): ReLU()\n",
       "  (maxpool): MaxPool2d(kernel_size=3, stride=2, padding=1, dilation=1, ceil_mode=False)\n",
       "  (layer1): Sequential(\n",
       "    (0): SimpleBlock(\n",
       "      (conv1): Sequential(\n",
       "        (0): Conv2d(64, 64, kernel_size=(3, 3), stride=(1, 1), padding=(1, 1))\n",
       "        (1): BatchNorm2d(64, eps=1e-05, momentum=0.1, affine=True, track_running_stats=True)\n",
       "      )\n",
       "      (relu): ReLU()\n",
       "      (conv2): Sequential(\n",
       "        (0): Conv2d(64, 64, kernel_size=(3, 3), stride=(1, 1), padding=(1, 1))\n",
       "        (1): BatchNorm2d(64, eps=1e-05, momentum=0.1, affine=True, track_running_stats=True)\n",
       "      )\n",
       "    )\n",
       "  )\n",
       "  (layer2): Sequential(\n",
       "    (0): SimpleBlock(\n",
       "      (conv1): Sequential(\n",
       "        (0): Conv2d(64, 128, kernel_size=(3, 3), stride=(2, 2), padding=(1, 1))\n",
       "        (1): BatchNorm2d(128, eps=1e-05, momentum=0.1, affine=True, track_running_stats=True)\n",
       "      )\n",
       "      (relu): ReLU()\n",
       "      (conv2): Sequential(\n",
       "        (0): Conv2d(128, 128, kernel_size=(3, 3), stride=(1, 1), padding=(1, 1))\n",
       "        (1): BatchNorm2d(128, eps=1e-05, momentum=0.1, affine=True, track_running_stats=True)\n",
       "      )\n",
       "      (downsample): Sequential(\n",
       "        (0): Conv2d(64, 128, kernel_size=(1, 1), stride=(2, 2))\n",
       "        (1): BatchNorm2d(128, eps=1e-05, momentum=0.1, affine=True, track_running_stats=True)\n",
       "      )\n",
       "    )\n",
       "  )\n",
       "  (layer3): Sequential(\n",
       "    (0): SimpleBlock(\n",
       "      (conv1): Sequential(\n",
       "        (0): Conv2d(128, 256, kernel_size=(3, 3), stride=(2, 2), padding=(1, 1))\n",
       "        (1): BatchNorm2d(256, eps=1e-05, momentum=0.1, affine=True, track_running_stats=True)\n",
       "      )\n",
       "      (relu): ReLU()\n",
       "      (conv2): Sequential(\n",
       "        (0): Conv2d(256, 256, kernel_size=(3, 3), stride=(1, 1), padding=(1, 1))\n",
       "        (1): BatchNorm2d(256, eps=1e-05, momentum=0.1, affine=True, track_running_stats=True)\n",
       "      )\n",
       "      (downsample): Sequential(\n",
       "        (0): Conv2d(128, 256, kernel_size=(1, 1), stride=(2, 2))\n",
       "        (1): BatchNorm2d(256, eps=1e-05, momentum=0.1, affine=True, track_running_stats=True)\n",
       "      )\n",
       "    )\n",
       "  )\n",
       "  (layer4): Sequential(\n",
       "    (0): SimpleBlock(\n",
       "      (conv1): Sequential(\n",
       "        (0): Conv2d(256, 512, kernel_size=(3, 3), stride=(2, 2), padding=(1, 1))\n",
       "        (1): BatchNorm2d(512, eps=1e-05, momentum=0.1, affine=True, track_running_stats=True)\n",
       "      )\n",
       "      (relu): ReLU()\n",
       "      (conv2): Sequential(\n",
       "        (0): Conv2d(512, 512, kernel_size=(3, 3), stride=(1, 1), padding=(1, 1))\n",
       "        (1): BatchNorm2d(512, eps=1e-05, momentum=0.1, affine=True, track_running_stats=True)\n",
       "      )\n",
       "      (downsample): Sequential(\n",
       "        (0): Conv2d(256, 512, kernel_size=(1, 1), stride=(2, 2))\n",
       "        (1): BatchNorm2d(512, eps=1e-05, momentum=0.1, affine=True, track_running_stats=True)\n",
       "      )\n",
       "    )\n",
       "  )\n",
       "  (avgpool): AdaptiveAvgPool2d(output_size=(1, 1))\n",
       "  (fc): Linear(in_features=512, out_features=5, bias=True)\n",
       ")"
      ]
     },
     "execution_count": 19,
     "metadata": {},
     "output_type": "execute_result"
    }
   ],
   "source": [
    "\n",
    "# copy the weights from the CPU model to the DML model\n",
    "for name, param in model_cpu.named_parameters():\n",
    "    if name in model_dml.state_dict().keys():\n",
    "        model_dml.state_dict()[name].copy_(param)\n",
    "\n",
    "        \n",
    "\n",
    "model_dml.to(device_dml)"
   ]
  },
  {
   "cell_type": "code",
   "execution_count": 20,
   "metadata": {},
   "outputs": [
    {
     "data": {
      "text/plain": [
       "device(type='privateuseone', index=0)"
      ]
     },
     "execution_count": 20,
     "metadata": {},
     "output_type": "execute_result"
    }
   ],
   "source": [
    "model_dml.device"
   ]
  },
  {
   "cell_type": "code",
   "execution_count": 21,
   "metadata": {},
   "outputs": [],
   "source": [
    "# save the dml model \n",
    "\n",
    "torch.save(model_dml.state_dict(), r\"C:\\Users\\Magnus\\OneDrive\\Studium\\3. Semester WS2324\\Praktikum BV\\TrafficLightDetection\\StateDetection\\models\\_model_best4\\model_dml.pth\")"
   ]
  },
  {
   "cell_type": "code",
   "execution_count": 22,
   "metadata": {},
   "outputs": [
    {
     "data": {
      "image/png": "[encoded data removed]",
      "text/plain": [
       "<Figure size 1000x500 with 1 Axes>"
      ]
     },
     "metadata": {},
     "output_type": "display_data"
    }
   ],
   "source": [
    "import matplotlib.pyplot as plt\n",
    "import numpy as np\n",
    "\n",
    "# Original Distribution:\n",
    "# off 12\n",
    "# red 697\n",
    "# red_yellow 211\n",
    "# yellow 288\n",
    "# green 1286\n",
    "\n",
    "# Distribution BEFORE keeping max_keep samples per class: \n",
    "# Train set:\n",
    "# off 9\n",
    "# red 557\n",
    "# red_yellow 168\n",
    "# yellow 230\n",
    "# green 1028\n",
    "\n",
    "# Validation set:\n",
    "# off 3\n",
    "# red 140\n",
    "# red_yellow 43\n",
    "# yellow 58\n",
    "# green 258\n",
    "\n",
    "# Distribution AFTER keeping max_keep samples per class: \n",
    "# Train set:\n",
    "# off 960\n",
    "# red 960\n",
    "# red_yellow 960\n",
    "# yellow 960\n",
    "# green 960\n",
    "\n",
    "# Validation set:\n",
    "# off 240\n",
    "# red 240\n",
    "# red_yellow 240\n",
    "# yellow 240\n",
    "# green 240\n",
    "\n",
    "# Train dataset shape:  (4800, 128, 128, 3)\n",
    "# Val dataset shape:  (1200, 128, 128, 3)\n",
    "\n",
    "original_distribution = [12, 697, 211, 288, 1286]\n",
    "before_distribution_train = [9, 557, 168, 230, 1028]\n",
    "before_distribution_val = [3, 140, 43, 58, 258]\n",
    "after_distribution_train = [960, 960, 960, 960, 960]\n",
    "after_distribution_val = [240, 240, 240, 240, 240]\n",
    "\n",
    "off = [12, 9, 3, 960, 240]\n",
    "red = [697, 557, 140, 960, 240]\n",
    "red_yellow = [211, 168, 43, 960, 240]\n",
    "yellow = [288, 230, 58, 960, 240]\n",
    "green = [1286, 1028, 258, 960, 240]\n",
    "\n",
    "dists = [\"raw distribution\", \"train 80% \\n(raw)\", \"validation 20% \\n(raw)\", \"train 80% \\n(upsampled)\", \"validation 20% \\n(upsampled)\"]\n",
    "\n",
    "labels = ['off', 'red', 'red_yellow', 'yellow', 'green']\n",
    "\n",
    "# Original Distribution\n",
    "# on the x axis are the 5 different distributions as bars \"original_distribution\", \"before_distribution_train\", \"before_distribution_val\", \"after_distribution_train\", \"after_distribution_val\"\n",
    "\n",
    "# and on the y axis number of samples stacked for each class, each class colored by the labels\n",
    "fig, ax = plt.subplots() \n",
    "fig.set_size_inches(10, 5)\n",
    "\n",
    "ax.bar(dists, off, label='off', color='black')\n",
    "ax.bar(dists, red, bottom=off, label='red', color='red')\n",
    "ax.bar(dists, red_yellow, bottom=np.array(off)+np.array(red), label='red_yellow', color='orange')\n",
    "ax.bar(dists, yellow, bottom=np.array(off)+np.array(red)+np.array(red_yellow), label='yellow', color='yellow')\n",
    "ax.bar(dists, green, bottom=np.array(off)+np.array(red)+np.array(red_yellow)+np.array(yellow), label='green', color='green')\n",
    "ax.set_ylabel('Number of samples')\n",
    "ax.set_title('Distribution of States')\n",
    "# flip the order of the legend\n",
    "handles, labels = ax.get_legend_handles_labels()\n",
    "ax.legend(handles[::-1], labels[::-1])\n",
    "\n",
    "\n",
    "plt.show()\n"
   ]
  },
  {
   "cell_type": "code",
   "execution_count": null,
   "metadata": {},
   "outputs": [],
   "source": []
  }
 ],
 "metadata": {
  "kernelspec": {
   "display_name": "pydml",
   "language": "python",
   "name": "python3"
  },
  "language_info": {
   "codemirror_mode": {
    "name": "ipython",
    "version": 3
   },
   "file_extension": ".py",
   "mimetype": "text/x-python",
   "name": "python",
   "nbconvert_exporter": "python",
   "pygments_lexer": "ipython3",
   "version": "3.10.13"
  }
 },
 "nbformat": 4,
 "nbformat_minor": 2
}
